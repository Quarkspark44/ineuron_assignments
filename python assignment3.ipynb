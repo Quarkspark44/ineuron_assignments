{
 "cells": [
  {
   "cell_type": "code",
   "execution_count": 5,
   "metadata": {},
   "outputs": [
    {
     "name": "stdout",
     "output_type": "stream",
     "text": [
      "15\n"
     ]
    }
   ],
   "source": [
    "def my_reduce(x,y):\n",
    "    f= y[0]\n",
    "    for i in y[1:]:\n",
    "        f=x(f,i)\n",
    "    return f\n",
    "def do_sum(a,b):\n",
    "    return a+b\n",
    "p=[1,2,3,4,5]\n",
    "print(my_reduce(do_sum,p))"
   ]
  },
  {
   "cell_type": "code",
   "execution_count": 26,
   "metadata": {},
   "outputs": [
    {
     "name": "stdout",
     "output_type": "stream",
     "text": [
      "[18, 24, 32]\n"
     ]
    }
   ],
   "source": [
    "def myfilter(func,lst):\n",
    "    z=[]\n",
    "    for i in lst:\n",
    "        if func(i) is True:\n",
    "            z.append(i)\n",
    "    return z\n",
    "\n",
    "ages = [5, 12, 17, 18, 24, 32]\n",
    "\n",
    "def is_adult(x):\n",
    "    if x < 18:\n",
    "        return False\n",
    "    else:\n",
    "        return True\n",
    "\n",
    "adults = myfilter(is_adult, ages)\n",
    "\n",
    "print(adults)\n"
   ]
  },
  {
   "cell_type": "code",
   "execution_count": 35,
   "metadata": {},
   "outputs": [
    {
     "name": "stdout",
     "output_type": "stream",
     "text": [
      "['x', 'xx', 'xxx', 'xxxx', 'y', 'yy', 'yyy', 'yyyy', 'z', 'zz', 'zzz', 'zzzz']\n",
      "['x', 'y', 'z', 'xx', 'yy', 'zz', 'xxx', 'yyy', 'zzz', 'xxxx', 'yyyy', 'zzzz']\n",
      "[[2], [3], [4], [3], [4], [5], [4], [5], [6]]\n",
      "[[2, 3, 4, 5], [3, 4, 5, 6], [4, 5, 6, 7], [5, 6, 7, 8]]\n",
      "[(1, 1), (2, 1), (3, 1), (1, 2), (2, 2), (3, 2), (1, 3), (2, 3), (3, 3)]\n"
     ]
    }
   ],
   "source": [
    "lst = 'xyz'\n",
    "list1 = [lst[i]*j for i in range(len(lst)) for j in range(1,5)]\n",
    "print(list1)\n",
    "list2 = [lst[i]*j for j in range(1,5) for i in range(len(lst))]\n",
    "print(list2)\n",
    "list3 = [[i+j] for i in range(2,5) for j in range(3)] \n",
    "print(list3)\n",
    "list4 = [[j for j in range(i,i+4)]for i in range(2,6)]\n",
    "print(list4)\n",
    "list5 = [(j,i) for i in range(1,4) for j in range(1,4)]\n",
    "print(list5)"
   ]
  }
 ],
 "metadata": {
  "kernelspec": {
   "display_name": "Python 3",
   "language": "python",
   "name": "python3"
  },
  "language_info": {
   "codemirror_mode": {
    "name": "ipython",
    "version": 3
   },
   "file_extension": ".py",
   "mimetype": "text/x-python",
   "name": "python",
   "nbconvert_exporter": "python",
   "pygments_lexer": "ipython3",
   "version": "3.7.3"
  }
 },
 "nbformat": 4,
 "nbformat_minor": 4
}
