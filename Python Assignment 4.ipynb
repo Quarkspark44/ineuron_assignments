{
 "cells": [
  {
   "cell_type": "code",
   "execution_count": 8,
   "metadata": {},
   "outputs": [
    {
     "name": "stdout",
     "output_type": "stream",
     "text": [
      "side 1 :2\n",
      "side 2 :3\n",
      "side 3 :4\n",
      "Area is :2.9047375096555625\n"
     ]
    }
   ],
   "source": [
    "class Triangle:\n",
    "    \n",
    "    def __init__(self):\n",
    "        self.a = int(input(\"side 1 :\"))\n",
    "        self.b = int(input(\"side 2 :\"))\n",
    "        self.c = int(input(\"side 3 :\"))\n",
    "\n",
    "class Area(Triangle):\n",
    "    \n",
    "    def find_area(self):\n",
    "        s = (self.a+self.b+self.c)/2\n",
    "        self.area =  (s*(s-self.a)*(s-self.b)*(s-self.c))**0.5\n",
    "\n",
    "A = Area()\n",
    "A.find_area()\n",
    "print('Area is :'+str(A.area))"
   ]
  },
  {
   "cell_type": "code",
   "execution_count": 10,
   "metadata": {},
   "outputs": [
    {
     "name": "stdout",
     "output_type": "stream",
     "text": [
      "['Hello', 'Python']\n"
     ]
    }
   ],
   "source": [
    "def filter_long_words(words,n):\n",
    "    lst =[]\n",
    "    for word in words:\n",
    "        if len(word)>n:\n",
    "            lst.append(word)\n",
    "    return lst\n",
    "words = ['Hello','Python','Java','C++']\n",
    "print(filter_long_words(words,4))"
   ]
  },
  {
   "cell_type": "code",
   "execution_count": 14,
   "metadata": {},
   "outputs": [
    {
     "name": "stdout",
     "output_type": "stream",
     "text": [
      "[2, 3, 4]\n"
     ]
    }
   ],
   "source": [
    "def map_words(words):\n",
    "    lst=[]\n",
    "    for word in words:\n",
    "        lst.append(len(word))\n",
    "    return lst\n",
    "words = ['ab','cde','erty']\n",
    "print(map_words(words))"
   ]
  },
  {
   "cell_type": "code",
   "execution_count": 16,
   "metadata": {},
   "outputs": [
    {
     "data": {
      "text/plain": [
       "True"
      ]
     },
     "execution_count": 16,
     "metadata": {},
     "output_type": "execute_result"
    }
   ],
   "source": [
    "def check_vowel(x):\n",
    "    vowels = ['a','e','i','o','u','A','E','I','O','U']\n",
    "    if x in vowels:\n",
    "        return True\n",
    "    else:\n",
    "        return False\n",
    "check_vowel('a')"
   ]
  }
 ],
 "metadata": {
  "kernelspec": {
   "display_name": "Python 3",
   "language": "python",
   "name": "python3"
  },
  "language_info": {
   "codemirror_mode": {
    "name": "ipython",
    "version": 3
   },
   "file_extension": ".py",
   "mimetype": "text/x-python",
   "name": "python",
   "nbconvert_exporter": "python",
   "pygments_lexer": "ipython3",
   "version": "3.7.3"
  }
 },
 "nbformat": 4,
 "nbformat_minor": 4
}
