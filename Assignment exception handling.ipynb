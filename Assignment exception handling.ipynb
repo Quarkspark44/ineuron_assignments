{
 "cells": [
  {
   "cell_type": "code",
   "execution_count": 5,
   "metadata": {},
   "outputs": [
    {
     "name": "stdout",
     "output_type": "stream",
     "text": [
      "Value too big\n"
     ]
    }
   ],
   "source": [
    "def div():\n",
    "    print(5/0)\n",
    "try:\n",
    "    div()\n",
    "except:\n",
    "    print(\"Value too big\")"
   ]
  },
  {
   "cell_type": "code",
   "execution_count": 9,
   "metadata": {},
   "outputs": [
    {
     "name": "stdout",
     "output_type": "stream",
     "text": [
      "Americans play basketball\n",
      "Americans play Cricket\n",
      "Americans watch basketball\n",
      "Americans watch Cricket\n",
      "Indians play basketball\n",
      "Indians play Cricket\n",
      "Indians watch basketball\n",
      "Indians watch Cricket\n"
     ]
    }
   ],
   "source": [
    "subjects = ['Americans','Indians']\n",
    "verbs = ['play','watch']\n",
    "objects = ['basketball','Cricket']\n",
    "for subject in subjects:\n",
    "    for verb in verbs:\n",
    "        for object in objects:\n",
    "            print(subject+' '+verb+\" \"+object)"
   ]
  }
 ],
 "metadata": {
  "kernelspec": {
   "display_name": "Python 3",
   "language": "python",
   "name": "python3"
  },
  "language_info": {
   "codemirror_mode": {
    "name": "ipython",
    "version": 3
   },
   "file_extension": ".py",
   "mimetype": "text/x-python",
   "name": "python",
   "nbconvert_exporter": "python",
   "pygments_lexer": "ipython3",
   "version": "3.7.3"
  }
 },
 "nbformat": 4,
 "nbformat_minor": 4
}
